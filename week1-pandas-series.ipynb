{
 "cells": [
  {
   "cell_type": "markdown",
   "id": "2778fc88-846a-446b-afe1-a6ac5461d465",
   "metadata": {},
   "source": [
    "# Pandas Series and Data Frames\n",
    "\n",
    "Date: 09/30/2024\n",
    "\n",
    "[link to exercises](https://meds-eds-220.github.io/MEDS-eds-220-course/book/chapters/lesson-2-series-dataframes.html)"
   ]
  },
  {
   "cell_type": "code",
   "execution_count": 3,
   "id": "ceb40491-3a06-414e-a85d-73435de1f9f8",
   "metadata": {
    "tags": []
   },
   "outputs": [],
   "source": [
    "# Import packages\n",
    "import pandas as pd\n",
    "import numpy as np"
   ]
  },
  {
   "cell_type": "markdown",
   "id": "59ae7b37-4db3-46c8-a2bb-696433f61b40",
   "metadata": {},
   "source": [
    "## Series\n",
    "- one-dimensional array of indexed data\n",
    "- Index differentiates `pandas.Series` from Numpy Array"
   ]
  },
  {
   "cell_type": "code",
   "execution_count": 2,
   "id": "c9a762c6-2dd2-4d1b-ba3a-f37132d73bc3",
   "metadata": {
    "tags": []
   },
   "outputs": [
    {
     "name": "stdout",
     "output_type": "stream",
     "text": [
      "<class 'numpy.ndarray'> \n",
      " [0.89317834 0.60565902 0.92206991 0.91785356]\n",
      "<class 'pandas.core.series.Series'> 0    0.893178\n",
      "1    0.605659\n",
      "2    0.922070\n",
      "3    0.917854\n",
      "dtype: float64\n"
     ]
    }
   ],
   "source": [
    "# Numpy array\n",
    "array = np.random.rand(4)\n",
    "print(type(array), \"\\n\", array)\n",
    "\n",
    "# Pandas Series using array\n",
    "series = pd.Series(array)\n",
    "print(type(series), series)"
   ]
  },
  {
   "cell_type": "markdown",
   "id": "55d640a1-c128-4338-8c67-d815b5c1e8fa",
   "metadata": {},
   "source": [
    "### Create a `pandas.Series`"
   ]
  },
  {
   "cell_type": "code",
   "execution_count": 3,
   "id": "d3c3c1ff-e52c-4512-8f9f-9e923866b595",
   "metadata": {
    "tags": []
   },
   "outputs": [
    {
     "data": {
      "text/plain": [
       "2023    0\n",
       "2024    1\n",
       "2025    2\n",
       "dtype: int64"
      ]
     },
     "execution_count": 3,
     "metadata": {},
     "output_type": "execute_result"
    }
   ],
   "source": [
    "# General format: s = pd.Series(data, index=index)\n",
    "\n",
    "# Make a pandas.Series from NumPy array\n",
    "pd.Series(np.arange(3), index=[2023, 2024, 2025])"
   ]
  },
  {
   "cell_type": "code",
   "execution_count": 4,
   "id": "48d84070-68a6-4a50-8e67-a33458528846",
   "metadata": {
    "tags": []
   },
   "outputs": [
    {
     "data": {
      "text/plain": [
       "0    EDS 220\n",
       "1    EDS 222\n",
       "2    EDS 223\n",
       "3    EDS 242\n",
       "dtype: object"
      ]
     },
     "execution_count": 4,
     "metadata": {},
     "output_type": "execute_result"
    }
   ],
   "source": [
    "# Make a pandas.Series from list\n",
    "pd.Series(['EDS 220', 'EDS 222', 'EDS 223', 'EDS 242'])"
   ]
  },
  {
   "cell_type": "code",
   "execution_count": 5,
   "id": "1f2ec7e8-4fe0-407f-a8e6-f5fc10a9328d",
   "metadata": {
    "tags": []
   },
   "outputs": [
    {
     "data": {
      "text/plain": [
       "key_0    2\n",
       "key_1    3\n",
       "key_2    5\n",
       "dtype: object"
      ]
     },
     "execution_count": 5,
     "metadata": {},
     "output_type": "execute_result"
    }
   ],
   "source": [
    "# Make a pandas.Series from dictionary\n",
    "\n",
    "## Make dictionary\n",
    "\n",
    "dict = {'key_0':2, 'key_1':'3', 'key_2':5}\n",
    "\n",
    "## Make series\n",
    "\n",
    "pd.Series(dict)"
   ]
  },
  {
   "cell_type": "code",
   "execution_count": 6,
   "id": "cbcea58b-6478-4733-a5e9-7cde917ac954",
   "metadata": {},
   "outputs": [
    {
     "data": {
      "text/plain": [
       "A    3.0\n",
       "B    3.0\n",
       "C    3.0\n",
       "dtype: float64"
      ]
     },
     "execution_count": 6,
     "metadata": {},
     "output_type": "execute_result"
    }
   ],
   "source": [
    "# Make a pandas.Series from 1 value\n",
    "pd.Series(3.0, index = ['A', 'B', 'C'])"
   ]
  },
  {
   "cell_type": "markdown",
   "id": "4dd4c18d-d8c8-4930-89f0-b75862f520f6",
   "metadata": {},
   "source": [
    "## Simple Operations\n",
    "\n",
    "- works on series and most NumPy functions"
   ]
  },
  {
   "cell_type": "code",
   "execution_count": 7,
   "id": "d5dde3df-66e2-4a9b-8b7a-21628783de78",
   "metadata": {
    "tags": []
   },
   "outputs": [
    {
     "name": "stdout",
     "output_type": "stream",
     "text": [
      "Andrea      9.8\n",
      "Beth        7.3\n",
      "Carolina    6.5\n",
      "dtype: float64 \n",
      "\n",
      "Andrea      3.637971e+42\n",
      "Beth        5.052394e+31\n",
      "Carolina    1.694889e+28\n",
      "dtype: float64 \n",
      "\n",
      "Andrea      98\n",
      "Beth        73\n",
      "Carolina    65\n",
      "dtype: int64\n"
     ]
    }
   ],
   "source": [
    "# Define Series\n",
    "s = pd.Series([98,73,65],index=['Andrea', 'Beth', 'Carolina'])\n",
    "\n",
    "# Divide each # by 10\n",
    "print(s /10, '\\n')\n",
    "\n",
    "# Take the exponential of each #\n",
    "print(np.exp(s), '\\n')\n",
    "\n",
    "# Original series is unchanged\n",
    "print(s)"
   ]
  },
  {
   "cell_type": "code",
   "execution_count": 8,
   "id": "2c734f26-4394-4272-bde1-b5857657cc49",
   "metadata": {
    "tags": []
   },
   "outputs": [
    {
     "data": {
      "text/plain": [
       "Andrea       True\n",
       "Beth         True\n",
       "Carolina    False\n",
       "dtype: bool"
      ]
     },
     "execution_count": 8,
     "metadata": {},
     "output_type": "execute_result"
    }
   ],
   "source": [
    "# Boolean\n",
    "s > 70"
   ]
  },
  {
   "cell_type": "markdown",
   "id": "49c469b7-f2d1-4ac7-82fb-9cf255e270f5",
   "metadata": {
    "tags": []
   },
   "source": [
    "### Identifying Missing Values\n",
    "- represent a missing, NULL, or NA value with the float value `numpy.nan` (not a number)"
   ]
  },
  {
   "cell_type": "code",
   "execution_count": 9,
   "id": "acf03e0d-c6cd-4234-bb9a-c965edd14974",
   "metadata": {
    "tags": []
   },
   "outputs": [
    {
     "name": "stdout",
     "output_type": "stream",
     "text": [
      "0    1.0\n",
      "1    2.0\n",
      "2    NaN\n",
      "3    4.0\n",
      "4    NaN\n",
      "dtype: float64\n"
     ]
    },
    {
     "data": {
      "text/plain": [
       "0    False\n",
       "1    False\n",
       "2     True\n",
       "3    False\n",
       "4     True\n",
       "dtype: bool"
      ]
     },
     "execution_count": 9,
     "metadata": {},
     "output_type": "execute_result"
    }
   ],
   "source": [
    "# Make Series with NAs in it\n",
    "s = pd.Series([1, 2, np.nan, 4, np.nan])\n",
    "print(s)\n",
    "\n",
    "# check for any NAs (true = has NA)\n",
    "s.hasnans\n",
    "\n",
    "# determine WHICH are NAs\n",
    "s.isna()"
   ]
  },
  {
   "cell_type": "markdown",
   "id": "d0bc04b6-2f68-42f9-a176-b76f59217632",
   "metadata": {},
   "source": [
    "## Check in\n",
    "- The integer number -999 is often used to represent missing values. Create a pandas.Series named s with four integer values, two of which are -999. The index of this series should be the the letters A through D.\n",
    "- In the pandas.Series documentation, look for the method mask(). Use this method to update the series s so that the -999 values are replaced by NA values. HINT: check the first example in the method’s documentation."
   ]
  },
  {
   "cell_type": "code",
   "execution_count": 13,
   "id": "fce71eb6-17ae-4c79-ad0a-260096656d18",
   "metadata": {
    "tags": []
   },
   "outputs": [
    {
     "name": "stdout",
     "output_type": "stream",
     "text": [
      "A   -999\n",
      "B   -999\n",
      "C      4\n",
      "D     39\n",
      "dtype: int64\n"
     ]
    }
   ],
   "source": [
    "# 1\n",
    "s = pd.Series([-999,-999,4,39], index=['A', 'B', 'C', 'D'])\n",
    "print(s)"
   ]
  },
  {
   "cell_type": "code",
   "execution_count": 15,
   "id": "59c50cdf-d2b2-4765-b1fb-1ad6bf5c134f",
   "metadata": {
    "tags": []
   },
   "outputs": [],
   "source": [
    "# 2\n",
    "\n",
    "# `mask`: Series.mask(cond, other=<no_default>, *, inplace=False, axis=None, level=None)\n",
    "# Replace values where the condition is True.\n",
    "s = s.mask(s < 0)\n",
    "# OR s = s.mask(s == -999)"
   ]
  },
  {
   "cell_type": "markdown",
   "id": "f716c8d7-b488-4bd3-8fd1-0c077d3f1f02",
   "metadata": {},
   "source": [
    "# Data Frames\n",
    "- Represents tabular data, like a spreadsheet\n",
    "- Each column of `pandas.DataFrame` is a `pandas.Series`"
   ]
  },
  {
   "cell_type": "code",
   "execution_count": 51,
   "id": "efa2a61e-c0ef-48f0-996c-34305fa3379a",
   "metadata": {
    "tags": []
   },
   "outputs": [
    {
     "name": "stdout",
     "output_type": "stream",
     "text": [
      "   col_name_1  col_name_2\n",
      "0           0         3.1\n",
      "1           1         3.2\n",
      "2           2         3.3\n",
      "   col_name_1  col_name_2\n",
      "a           0         3.1\n",
      "b           1         3.2\n",
      "c           2         3.3\n"
     ]
    }
   ],
   "source": [
    "# Make a dataframr through dictionary\n",
    "d = {'col_name_1' : pd.Series(np.arange(3)),\n",
    "     'col_name_2' : pd.Series([3.1, 3.2, 3.3]),\n",
    "     }\n",
    "\n",
    "# Make the data frame\n",
    "df = pd.DataFrame(d)\n",
    "print(df)\n",
    "\n",
    "# Change index\n",
    "df.index = ['a','b','c']\n",
    "print(df)"
   ]
  },
  {
   "cell_type": "markdown",
   "id": "e0da2f08-e450-46ca-ae39-0fc30aa243c7",
   "metadata": {},
   "source": [
    "## Check in\n",
    "\n",
    "- We can access the data frame’s column names via the columns attribute. Update the column names to C1 and C2 by updating this attribute."
   ]
  },
  {
   "cell_type": "code",
   "execution_count": 62,
   "id": "797d89d6-7be8-49a1-b721-287d2a4aa608",
   "metadata": {
    "tags": []
   },
   "outputs": [
    {
     "name": "stdout",
     "output_type": "stream",
     "text": [
      "   C1   C2\n",
      "a   0  3.1\n",
      "b   1  3.2\n",
      "c   2  3.3\n"
     ]
    }
   ],
   "source": [
    "df.columns = ['C1', 'C2']\n",
    "df.columns\n",
    "print(df)"
   ]
  }
 ],
 "metadata": {
  "kernelspec": {
   "display_name": "Anaconda 3 (Base)",
   "language": "python",
   "name": "base"
  },
  "language_info": {
   "codemirror_mode": {
    "name": "ipython",
    "version": 3
   },
   "file_extension": ".py",
   "mimetype": "text/x-python",
   "name": "python",
   "nbconvert_exporter": "python",
   "pygments_lexer": "ipython3",
   "version": "3.9.13"
  }
 },
 "nbformat": 4,
 "nbformat_minor": 5
}
