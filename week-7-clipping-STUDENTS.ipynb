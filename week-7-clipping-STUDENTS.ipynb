{
 "cells": [
  {
   "cell_type": "markdown",
   "metadata": {},
   "source": [
    "# 12 Clipping\n",
    "\n",
    "In this lesson we will learn how to to clip different geometries.\n",
    "\n",
    "## About the data\n",
    "\n",
    "We will use three datasets in this lesson. \n",
    "\n",
    "The first dataset is a [TIGER shapefile of the US states from the United States Census Bureau](https://www.census.gov/geographies/mapping-files/time-series/geo/tiger-line-file.2022.html#list-tab-790442341). Follow these steps to download shapefile with the United States' states:\n",
    "\n",
    "You can check the [metadata for all the TIGER shapefiles here](https://www.census.gov/programs-surveys/geography/technical-documentation/complete-technical-documentation/tiger-geo-line.html). \n",
    "\n",
    "The second dataset we'll use is [Natural Earth's simple medium scale populated places dataset](https://www.naturalearthdata.com/downloads/50m-cultural-vectors/). We can obtain this dataset by downloading the shapefile (choose the one that says \"simple (less columns)\").\n",
    "\n",
    "The third dataset we'll use is [Natural Earth's road dataset](https://www.naturalearthdata.com/downloads/10m-cultural-vectors/roads/). \n",
    "We can obtain this dataset by downloading the shapefile \n",
    "\n",
    "We will combine these datasets to create the following map of infrastructure in Alaska:\n",
    "\n",
    "## Import data\n",
    "\n",
    "Let's start by loading our libraries and then importing the datasets we will use.\n"
   ]
  },
  {
   "cell_type": "code",
   "execution_count": 1,
   "metadata": {
    "tags": []
   },
   "outputs": [],
   "source": [
    "import os\n",
    "import pandas as pd\n",
    "import matplotlib.pyplot as plt\n",
    "import geopandas as gpd\n",
    "\n",
    "from shapely.geometry import box  # To create polygon bounding box\n",
    "\n",
    "\"\"\"\n",
    "Set environment variable 'PROJ_LIB' to specify the path for the PROJ library\n",
    "Resolves ERROR 1: PROJ: proj_create_from_database\n",
    "\"\"\"\"\"\n",
    "os.environ['PROJ_LIB'] = '/opt/anaconda3/share/proj'\n",
    "\n",
    "pd.set_option(\"display.max.columns\", None)\n",
    "\n",
    "# -------------------------------------------------------\n",
    "# Import data\n",
    "\n",
    "# Path to course data folder\n",
    "data_folder_fp = os.path.join('/',\n",
    "                              'courses',\n",
    "                              'EDS220', \n",
    "                              'data')\n",
    "\n",
    "# Import and simplify states polygons\n",
    "states = gpd.read_file(os.path.join(data_folder_fp, \n",
    "                                    'tl_2022_us_state', \n",
    "                                    'tl_2022_us_state.shp'))\n",
    "\n",
    "# Import Natural Earth populated places points\n",
    "places = gpd.read_file(os.path.join(data_folder_fp,\n",
    "                                    'ne_50m_populated_places',\n",
    "                                    'ne_50m_populated_places.shp')\n",
    "                                    )\n",
    "\n",
    "# Import ferry routes lines\n",
    "roads = gpd.read_file(os.path.join(data_folder_fp,\n",
    "                                   'ne_10m_roads',\n",
    "                                   'ne_10m_roads.shp')\n",
    "                                   )"
   ]
  },
  {
   "cell_type": "markdown",
   "metadata": {},
   "source": [
    "## Check-in\n",
    "Use a for loop to iterate over the three geo-dataframes we imported and change their column names to lower caps."
   ]
  }
 ],
 "metadata": {
  "kernelspec": {
   "display_name": "Anaconda 3 (EDS220)",
   "language": "python",
   "name": "eds220-env"
  },
  "language_info": {
   "codemirror_mode": {
    "name": "ipython",
    "version": 3
   },
   "file_extension": ".py",
   "mimetype": "text/x-python",
   "name": "python",
   "nbconvert_exporter": "python",
   "pygments_lexer": "ipython3",
   "version": "3.11.4"
  }
 },
 "nbformat": 4,
 "nbformat_minor": 4
}
