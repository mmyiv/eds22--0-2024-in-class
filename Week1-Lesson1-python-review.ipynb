{
 "cells": [
  {
   "cell_type": "markdown",
   "id": "8c90fdf7-fcb0-4376-bd38-4da5f924bd4a",
   "metadata": {},
   "source": [
    "# Python Review\n",
    "\n",
    "Short review about some core concepts in python expemplified by objects in the numpy library.\n",
    "\n",
    "Goals:\n",
    "- recall basic python vocabulary\n",
    "- practice markdown syntax\n",
    "    \n",
    "## Libraries and Packages\n",
    "\n",
    "**library:** is a collection of code that we can use to perform specific tasks in our programs. It can be a single file or multiple files\n",
    "\n",
    "**NumPy:**\n",
    "\n",
    "- core library for numerical computing in PYthon\n",
    "- many of libraries use NumPy arraysas their building blocks\n",
    "- computations on NumPy objectd are optomized for speed and memory usage\n",
    "\n",
    "Let's Import NumPy with its **standard abbreviation `np`:**"
   ]
  },
  {
   "cell_type": "code",
   "execution_count": 1,
   "id": "703e2a00-9140-4e20-af71-88c654a4a889",
   "metadata": {
    "tags": []
   },
   "outputs": [],
   "source": [
    "import numpy as np"
   ]
  },
  {
   "cell_type": "markdown",
   "id": "292cd0b1-f9a9-4b3d-9615-3d631d13797b",
   "metadata": {},
   "source": [
    "## Variables\n",
    "\n",
    "**variables:** a name we assign to a particular object in Python\n",
    "\n",
    "Example:"
   ]
  },
  {
   "cell_type": "code",
   "execution_count": 2,
   "id": "246e8f0f-6dc4-4fee-80c4-7a736bf3a9b9",
   "metadata": {
    "tags": []
   },
   "outputs": [],
   "source": [
    "# Assign a small array to variable a\n",
    "a = np.array([ [1,1,2], [3,5,8] ])"
   ]
  },
  {
   "cell_type": "markdown",
   "id": "dfe9d70a-1241-4b8c-83d6-123da91a358d",
   "metadata": {},
   "source": [
    "To view a variable's value from our jupiter notebook:"
   ]
  },
  {
   "cell_type": "code",
   "execution_count": 3,
   "id": "6778573f-98a7-49a4-b1aa-4439bcea4211",
   "metadata": {
    "tags": []
   },
   "outputs": [
    {
     "data": {
      "text/plain": [
       "array([[1, 1, 2],\n",
       "       [3, 5, 8]])"
      ]
     },
     "execution_count": 3,
     "metadata": {},
     "output_type": "execute_result"
    }
   ],
   "source": [
    "# Run cell with variable name to show value\n",
    "a"
   ]
  },
  {
   "cell_type": "code",
   "execution_count": 5,
   "id": "d8bacf10-dadb-4706-8059-5e69d3fbef74",
   "metadata": {
    "tags": []
   },
   "outputs": [
    {
     "name": "stdout",
     "output_type": "stream",
     "text": [
      "[[1 1 2]\n",
      " [3 5 8]]\n"
     ]
    }
   ],
   "source": [
    "# Use `print` function to print the value\n",
    "print(a)"
   ]
  },
  {
   "cell_type": "markdown",
   "id": "4f587c8e-91fe-4637-a778-adb90f0fc2b4",
   "metadata": {
    "tags": []
   },
   "source": [
    "## Convention: Use `snake case` for naming variables\n",
    "\n",
    "This is the convention we will use in the course. Why? `my-variable` or `MyVariable` or `myVariable`...\n",
    "PEP 8 - Style guide for PYthon Code recommends snake_case.\n",
    "Consistent throughout code = looks more professional\n",
    "\n",
    "**Variable names should be both descriptive and precise**\n",
    "\n",
    "## Objects\n",
    "\n",
    "**object:** (informally speaking) is a bundle of *properties* and *actions* about something specific.\n",
    "\n",
    "Example:\n",
    "\n",
    "Object: data frame\n",
    "Properties: number of rows, names of columns, and date created\n",
    "Actions: selecting a specific row or adding a new column\n",
    "\n",
    "A variable is the name we give a specific object, and the same object can be referenced by different variables. (ex sun = sol (Spanish) or soleil (French))\n",
    "\n",
    "In practice, we can often use the word variable and object interchangeably. \n",
    "\n",
    "\n",
    "## Types\n",
    "\n",
    "Every object in Python has a **type**, which tells us what kind of object we have.\n",
    "We can also call the type of an object, the **class** of an object. So class and object both mean what kind of object we have."
   ]
  },
  {
   "cell_type": "code",
   "execution_count": 8,
   "id": "a041a27a-a531-4450-9704-af67412c3157",
   "metadata": {
    "tags": []
   },
   "outputs": [
    {
     "name": "stdout",
     "output_type": "stream",
     "text": [
      "[[1 1 2]\n",
      " [3 5 8]]\n"
     ]
    }
   ],
   "source": [
    "print(a)"
   ]
  },
  {
   "cell_type": "code",
   "execution_count": 11,
   "id": "3304bba6-2a62-4d0d-9b9a-ac6b874d2318",
   "metadata": {
    "tags": []
   },
   "outputs": [
    {
     "data": {
      "text/plain": [
       "numpy.ndarray"
      ]
     },
     "execution_count": 11,
     "metadata": {},
     "output_type": "execute_result"
    }
   ],
   "source": [
    "# See the type/class of a variable using the `type` function\n",
    "type(a)"
   ]
  },
  {
   "cell_type": "markdown",
   "id": "ba019ea9-dea7-4866-bf6f-7db97ab963c0",
   "metadata": {
    "tags": []
   },
   "source": [
    "The `numpy.ndarray` is the core object/data type of the NumPy package"
   ]
  },
  {
   "cell_type": "code",
   "execution_count": 15,
   "id": "d2f8fe01-2a4b-47da-a739-8342e0ed3634",
   "metadata": {
    "tags": []
   },
   "outputs": [
    {
     "name": "stdout",
     "output_type": "stream",
     "text": [
      "1\n"
     ]
    },
    {
     "data": {
      "text/plain": [
       "numpy.int64"
      ]
     },
     "execution_count": 15,
     "metadata": {},
     "output_type": "execute_result"
    }
   ],
   "source": [
    "print(a[0,0])\n",
    "type(a[0,0])"
   ]
  },
  {
   "cell_type": "markdown",
   "id": "9504a844-c6a2-4889-89a8-43a7d2632886",
   "metadata": {},
   "source": [
    "`numpy.int64` is not the standard Python integer type `int`.\n",
    "\n",
    "`numpy.int64` is a special data type in Numpy telling us that 1 is an integer stored as a 64-bit number\n",
    "\n",
    "Check-in: access the value 5 in array `a`\n",
    "(like displacement! if displacement = 0, are at first position)"
   ]
  },
  {
   "cell_type": "code",
   "execution_count": 18,
   "id": "0585da80-eb06-4b09-95b0-c2203c644bdc",
   "metadata": {
    "tags": []
   },
   "outputs": [
    {
     "name": "stdout",
     "output_type": "stream",
     "text": [
      "5\n"
     ]
    }
   ],
   "source": [
    "print(a[1,1])"
   ]
  },
  {
   "cell_type": "markdown",
   "id": "14d351f7-9721-43f9-b58a-da79c7f21401",
   "metadata": {},
   "source": [
    "## Functions\n",
    "\n",
    "`print` was our first example of a Python **function**\n",
    "\n",
    "Functions take place in a set of **arguments**, separated by commas, and use those arguments to create an **output**.\n",
    "In this course we will be using argument and parameter interchangeably, but they do have slightly different meanings.\n",
    "\n",
    "We can ask for information about what a function does by executing ? followed by the function name"
   ]
  },
  {
   "cell_type": "code",
   "execution_count": 20,
   "id": "db7402a9-8d72-4aa8-a6f6-9a669965d77c",
   "metadata": {
    "tags": []
   },
   "outputs": [
    {
     "data": {
      "text/plain": [
       "\u001b[0;31mDocstring:\u001b[0m\n",
       "print(value, ..., sep=' ', end='\\n', file=sys.stdout, flush=False)\n",
       "\n",
       "Prints the values to a stream, or to sys.stdout by default.\n",
       "Optional keyword arguments:\n",
       "file:  a file-like object (stream); defaults to the current sys.stdout.\n",
       "sep:   string inserted between values, default a space.\n",
       "end:   string appended after the last value, default a newline.\n",
       "flush: whether to forcibly flush the stream.\n",
       "\u001b[0;31mType:\u001b[0m      builtin_function_or_method\n"
      ]
     },
     "metadata": {},
     "output_type": "display_data"
    }
   ],
   "source": [
    "?print"
   ]
  },
  {
   "cell_type": "markdown",
   "id": "8612f9d5-faed-413c-9614-f67fe5600bd2",
   "metadata": {},
   "source": [
    "What we obtain is called **docstring**, a special type of comment that is used to document how a function (or a class, or module) works.\n",
    "\n",
    "Notice that there are different types of arguments inside the function's parenthesis.\n",
    "\n",
    "Roughly speaking, a function has two types of arguments:\n",
    "- **non-optional**: arguments *you* have to specify for the function to work\n",
    "- **optional**: arguments that are pre-filled with a default value by the function, but you can override them. Optional arguments appear inside the parenthesis () in the form `optional_argument = default_value`\n",
    "\n",
    "Example:\n",
    "`end` is a parameter in the `print` with default value in the new line\n",
    "We can pass the value `:-)` to this parameter so that it finishes with `:-)` instead"
   ]
  },
  {
   "cell_type": "code",
   "execution_count": 22,
   "id": "169b1b5d-b0bd-4c60-a258-e271cf43054b",
   "metadata": {
    "tags": []
   },
   "outputs": [
    {
     "name": "stdout",
     "output_type": "stream",
     "text": [
      "Change the end parameter:-)"
     ]
    }
   ],
   "source": [
    "print('Change the end parameter', end=':-)')"
   ]
  },
  {
   "cell_type": "markdown",
   "id": "4aa54837-9271-4e6d-93fa-c101e5824c0b",
   "metadata": {},
   "source": [
    "## Attributes and Methods\n",
    "\n",
    "An object in Python has attributes and methods\n",
    "\n",
    "- **attributes:** a property of the object, some piece  of information about it\n",
    "- **methods:** a procedure associated with an object, so it is an action where the main ingredient is the object itself\n",
    "\n",
    "Check in: Make a diagram like the cat one, but for fish.\n",
    "\n",
    "Numpy arrays have many methods and attributes. For example:"
   ]
  },
  {
   "cell_type": "code",
   "execution_count": 24,
   "id": "e2ece6fd-fd6a-4d56-a87c-c979c1cf1d99",
   "metadata": {
    "tags": []
   },
   "outputs": [
    {
     "data": {
      "text/plain": [
       "array([[1, 1, 2],\n",
       "       [3, 5, 8]])"
      ]
     },
     "execution_count": 24,
     "metadata": {},
     "output_type": "execute_result"
    }
   ],
   "source": [
    "a"
   ]
  },
  {
   "cell_type": "code",
   "execution_count": 27,
   "id": "c8f8e9e5-e734-4e9c-81cb-8910934a8689",
   "metadata": {
    "tags": []
   },
   "outputs": [
    {
     "name": "stdout",
     "output_type": "stream",
     "text": [
      "[[1 3]\n",
      " [1 5]\n",
      " [2 8]]\n"
     ]
    }
   ],
   "source": [
    "# T is an example of an attribute, it returns the transpose of an array\n",
    "print(a.T)"
   ]
  },
  {
   "cell_type": "code",
   "execution_count": 29,
   "id": "f58ffe71-3d04-412b-8f49-833eed45b2ac",
   "metadata": {
    "tags": []
   },
   "outputs": [
    {
     "data": {
      "text/plain": [
       "numpy.ndarray"
      ]
     },
     "execution_count": 29,
     "metadata": {},
     "output_type": "execute_result"
    }
   ],
   "source": [
    "type(a.T)"
   ]
  },
  {
   "cell_type": "code",
   "execution_count": 31,
   "id": "2b4e081e-8c44-49d1-ae05-a0ccbc89926e",
   "metadata": {
    "tags": []
   },
   "outputs": [
    {
     "name": "stdout",
     "output_type": "stream",
     "text": [
      "(2, 3)\n"
     ]
    }
   ],
   "source": [
    "# Shape is another attribute that tells us about the shape of the array\n",
    "print(a.shape)"
   ]
  },
  {
   "cell_type": "code",
   "execution_count": 34,
   "id": "fe0902de-3ef7-4331-8102-1cc3ed0dd22e",
   "metadata": {
    "tags": []
   },
   "outputs": [
    {
     "name": "stdout",
     "output_type": "stream",
     "text": [
      "dim: 2 | type <class 'int'>\n"
     ]
    }
   ],
   "source": [
    "# Ndim is an attribute holding the number of array dimensions\n",
    "print('dim:', a.ndim, '| type', type(a.ndim) )"
   ]
  },
  {
   "cell_type": "markdown",
   "id": "a9cfd608-dce4-470c-8fd4-9e39ae3947f9",
   "metadata": {
    "tags": []
   },
   "source": [
    "Attributes can have many different data types.\n",
    "\n",
    "Some examples of methods:"
   ]
  },
  {
   "cell_type": "code",
   "execution_count": 37,
   "id": "706bb146-ac00-4ede-b3c8-fb69b3966d99",
   "metadata": {
    "tags": []
   },
   "outputs": [
    {
     "name": "stdout",
     "output_type": "stream",
     "text": [
      "[[1 1 2]\n",
      " [3 5 8]]\n"
     ]
    },
    {
     "data": {
      "text/plain": [
       "array([1, 1, 2])"
      ]
     },
     "execution_count": 37,
     "metadata": {},
     "output_type": "execute_result"
    }
   ],
   "source": [
    "# Min method returns minimum value in the array along a specified axis\n",
    "print(a)\n",
    "a.min(axis=0)"
   ]
  },
  {
   "cell_type": "code",
   "execution_count": 39,
   "id": "9bc0a7a3-e7d4-4630-8a30-0fb100bddc58",
   "metadata": {
    "tags": []
   },
   "outputs": [
    {
     "data": {
      "text/plain": [
       "1"
      ]
     },
     "execution_count": 39,
     "metadata": {},
     "output_type": "execute_result"
    }
   ],
   "source": [
    "# Run min method without axis\n",
    "a.min()"
   ]
  },
  {
   "cell_type": "code",
   "execution_count": 40,
   "id": "b0be7a63-e395-4919-8e79-6ce3ec1e090b",
   "metadata": {
    "tags": []
   },
   "outputs": [],
   "source": [
    "# Parameter axis is optional\n"
   ]
  },
  {
   "cell_type": "markdown",
   "id": "3e576b7c-0b4b-4319-99d6-caae89f3b465",
   "metadata": {},
   "source": [
    "Remember, methods are functions associated with an object. We can confirm this!"
   ]
  },
  {
   "cell_type": "code",
   "execution_count": 42,
   "id": "b4d9c943-a8af-4c07-924d-c6adedce9877",
   "metadata": {
    "tags": []
   },
   "outputs": [
    {
     "data": {
      "text/plain": [
       "[[1, 1, 2], [3, 5, 8]]"
      ]
     },
     "execution_count": 42,
     "metadata": {},
     "output_type": "execute_result"
    }
   ],
   "source": [
    "# method to list() transform array into a list\n",
    "a.tolist()"
   ]
  },
  {
   "cell_type": "code",
   "execution_count": 45,
   "id": "4aa21785-7059-4c46-a686-9aee0cabd2a3",
   "metadata": {
    "tags": []
   },
   "outputs": [
    {
     "data": {
      "text/plain": [
       "builtin_function_or_method"
      ]
     },
     "execution_count": 45,
     "metadata": {},
     "output_type": "execute_result"
    }
   ],
   "source": [
    "type(a.tolist)"
   ]
  },
  {
   "cell_type": "code",
   "execution_count": 52,
   "id": "9e6e60ab-aa35-419b-a386-99d4fab0e728",
   "metadata": {
    "tags": []
   },
   "outputs": [
    {
     "name": "stdout",
     "output_type": "stream",
     "text": [
      "Object `sep` not found.\n"
     ]
    },
    {
     "data": {
      "text/plain": [
       "\u001b[0;31mDocstring:\u001b[0m\n",
       "print(value, ..., sep=' ', end='\\n', file=sys.stdout, flush=False)\n",
       "\n",
       "Prints the values to a stream, or to sys.stdout by default.\n",
       "Optional keyword arguments:\n",
       "file:  a file-like object (stream); defaults to the current sys.stdout.\n",
       "sep:   string inserted between values, default a space.\n",
       "end:   string appended after the last value, default a newline.\n",
       "flush: whether to forcibly flush the stream.\n",
       "\u001b[0;31mType:\u001b[0m      builtin_function_or_method\n"
      ]
     },
     "metadata": {},
     "output_type": "display_data"
    }
   ],
   "source": [
    "# Exercise\n",
    "?print"
   ]
  },
  {
   "cell_type": "markdown",
   "id": "4599a34a-97a1-43c8-ae98-d5baa6ce5bd1",
   "metadata": {
    "tags": []
   },
   "source": [
    "1. It is an optional argument because it is listed as such\n",
    "2. "
   ]
  },
  {
   "cell_type": "code",
   "execution_count": 58,
   "id": "b84de424-51be-4193-b588-a134bd013869",
   "metadata": {
    "tags": []
   },
   "outputs": [
    {
     "name": "stdout",
     "output_type": "stream",
     "text": [
      "77%99%77\n"
     ]
    }
   ],
   "source": [
    "var1 = 77\n",
    "\n",
    "var2 = '99'\n",
    "\n",
    "print(var1, var2, var1, sep='%')"
   ]
  }
 ],
 "metadata": {
  "kernelspec": {
   "display_name": "Anaconda 3 (Base)",
   "language": "python",
   "name": "base"
  },
  "language_info": {
   "codemirror_mode": {
    "name": "ipython",
    "version": 3
   },
   "file_extension": ".py",
   "mimetype": "text/x-python",
   "name": "python",
   "nbconvert_exporter": "python",
   "pygments_lexer": "ipython3",
   "version": "3.9.13"
  }
 },
 "nbformat": 4,
 "nbformat_minor": 5
}
