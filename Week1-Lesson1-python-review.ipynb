{
 "cells": [
  {
   "cell_type": "markdown",
   "id": "8c90fdf7-fcb0-4376-bd38-4da5f924bd4a",
   "metadata": {},
   "source": [
    "# Python Review\n",
    "\n",
    "Short review about some core concepts in python expemplified by objects in the numpy library.\n",
    "\n",
    "Goals:\n",
    "- recall basic python vocabulary\n",
    "- practice markdown syntax\n",
    "    \n",
    "## Libraries and Packages\n",
    "\n",
    "**library:** is a collection of code that we can use to perform specific tasks in our programs. It can be a single file or multiple files\n",
    "\n",
    "**NumPy:**\n",
    "\n",
    "- core library for numerical computing in PYthon\n",
    "- many of libraries use NumPy arraysas their building blocks\n",
    "- computations on NumPy objectd are optomized for speed and memory usage\n",
    "\n",
    "Let's Import NumPy with its **standard abbreviation `np`:**"
   ]
  },
  {
   "cell_type": "code",
   "execution_count": 2,
   "id": "703e2a00-9140-4e20-af71-88c654a4a889",
   "metadata": {
    "tags": []
   },
   "outputs": [],
   "source": [
    "import numpy as np"
   ]
  },
  {
   "cell_type": "markdown",
   "id": "292cd0b1-f9a9-4b3d-9615-3d631d13797b",
   "metadata": {},
   "source": [
    "## Variables\n",
    "\n",
    "**variables:** a name we assign to a particular object in Python\n",
    "\n",
    "Example:"
   ]
  },
  {
   "cell_type": "code",
   "execution_count": 5,
   "id": "246e8f0f-6dc4-4fee-80c4-7a736bf3a9b9",
   "metadata": {
    "tags": []
   },
   "outputs": [],
   "source": [
    "# Assign a small array to variable a\n",
    "a = np.array([ [1,1,2], [3,5,8] ])"
   ]
  },
  {
   "cell_type": "markdown",
   "id": "dfe9d70a-1241-4b8c-83d6-123da91a358d",
   "metadata": {},
   "source": [
    "To view a variable's value from our jupiter notebook:"
   ]
  },
  {
   "cell_type": "code",
   "execution_count": 7,
   "id": "6778573f-98a7-49a4-b1aa-4439bcea4211",
   "metadata": {
    "tags": []
   },
   "outputs": [
    {
     "data": {
      "text/plain": [
       "array([[1, 1, 2],\n",
       "       [3, 5, 8]])"
      ]
     },
     "execution_count": 7,
     "metadata": {},
     "output_type": "execute_result"
    }
   ],
   "source": [
    "# Run cell with variable name to show value\n",
    "a"
   ]
  },
  {
   "cell_type": "code",
   "execution_count": 8,
   "id": "d8bacf10-dadb-4706-8059-5e69d3fbef74",
   "metadata": {
    "tags": []
   },
   "outputs": [
    {
     "name": "stdout",
     "output_type": "stream",
     "text": [
      "[[1 1 2]\n",
      " [3 5 8]]\n"
     ]
    }
   ],
   "source": [
    "# Use `print` function to print the value\n",
    "print(a)"
   ]
  }
 ],
 "metadata": {
  "kernelspec": {
   "display_name": "Anaconda 3 (Base)",
   "language": "python",
   "name": "base"
  },
  "language_info": {
   "codemirror_mode": {
    "name": "ipython",
    "version": 3
   },
   "file_extension": ".py",
   "mimetype": "text/x-python",
   "name": "python",
   "nbconvert_exporter": "python",
   "pygments_lexer": "ipython3",
   "version": "3.9.13"
  }
 },
 "nbformat": 4,
 "nbformat_minor": 5
}
